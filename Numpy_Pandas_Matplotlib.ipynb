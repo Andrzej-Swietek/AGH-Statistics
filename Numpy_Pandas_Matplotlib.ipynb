{
  "nbformat": 4,
  "nbformat_minor": 0,
  "metadata": {
    "colab": {
      "provenance": [],
      "collapsed_sections": [
        "t5p-5REw0zT_",
        "jtP2fb8H4kXN"
      ]
    },
    "kernelspec": {
      "name": "python3",
      "display_name": "Python 3"
    },
    "language_info": {
      "name": "python"
    }
  },
  "cells": [
    {
      "cell_type": "code",
      "execution_count": null,
      "metadata": {
        "colab": {
          "base_uri": "https://localhost:8080/"
        },
        "id": "pyNyyEslyj31",
        "outputId": "aa4f8064-15e3-46aa-fe0f-038f0170c064"
      },
      "outputs": [
        {
          "output_type": "execute_result",
          "data": {
            "text/plain": [
              "array([ 4, 10, 18])"
            ]
          },
          "metadata": {},
          "execution_count": 1
        }
      ],
      "source": [
        "import numpy as np\n",
        "\n",
        "a = np.array([1,2,3], dtype='int16')\n",
        "b = np.array([4,5,6])\n",
        "\n",
        "# Matrix\n",
        "c = np.array([a,b,a,b])\n",
        "\n",
        "# mnożenie macierzy\n",
        "multply = a*b\n",
        "multply"
      ]
    },
    {
      "cell_type": "markdown",
      "source": [
        "## Wymiary 1D ( vector ) / 2D - Matrix / 3D "
      ],
      "metadata": {
        "id": "AsqC_ELz0RXR"
      }
    },
    {
      "cell_type": "code",
      "source": [
        "c.ndim"
      ],
      "metadata": {
        "colab": {
          "base_uri": "https://localhost:8080/"
        },
        "id": "gVO1giZvz_qz",
        "outputId": "72afec17-b278-416d-f3bf-14102094ee8c"
      },
      "execution_count": null,
      "outputs": [
        {
          "output_type": "execute_result",
          "data": {
            "text/plain": [
              "2"
            ]
          },
          "metadata": {},
          "execution_count": 2
        }
      ]
    },
    {
      "cell_type": "markdown",
      "source": [
        "## Shape\n",
        "\n",
        "The elements of the shape tuple give the lengths of the corresponding array dimensions.\n",
        "\n",
        "macierz c.shape ==  4x3\n",
        "```\n",
        "[\n",
        "  [ 1 , 2 , 3 ],\n",
        "  [ 4 , 5 , 6 ],\n",
        "  [ 1 , 2 , 3 ],  \n",
        "  [ 4 , 5 , 6 ]\n",
        "]\n",
        "```"
      ],
      "metadata": {
        "id": "t5p-5REw0zT_"
      }
    },
    {
      "cell_type": "code",
      "source": [
        "c.shape"
      ],
      "metadata": {
        "colab": {
          "base_uri": "https://localhost:8080/"
        },
        "id": "IVP0rwzf0cfR",
        "outputId": "f08e5cc9-98c6-4131-9068-8560c21f5e43"
      },
      "execution_count": null,
      "outputs": [
        {
          "output_type": "execute_result",
          "data": {
            "text/plain": [
              "(4, 3)"
            ]
          },
          "metadata": {},
          "execution_count": 3
        }
      ]
    },
    {
      "cell_type": "code",
      "source": [
        "a.shape"
      ],
      "metadata": {
        "colab": {
          "base_uri": "https://localhost:8080/"
        },
        "id": "wNDw7hQo0MmO",
        "outputId": "dddd47e5-ce2b-42af-d0c1-d28937a4a003"
      },
      "execution_count": null,
      "outputs": [
        {
          "output_type": "execute_result",
          "data": {
            "text/plain": [
              "(3,)"
            ]
          },
          "metadata": {},
          "execution_count": 4
        }
      ]
    },
    {
      "cell_type": "code",
      "source": [
        "# Get Type\n",
        "print(\"Type : \" + str(a.dtype))\n",
        "\n",
        "# Get size of 1 element\n",
        "print(\"Single Element size : \" + str(a.itemsize))\n",
        "# Get number of elementa\n",
        "print(\"A Length : \" + str(a.size))\n",
        "\n",
        "# Total size\n",
        "a.size * a.itemsize"
      ],
      "metadata": {
        "colab": {
          "base_uri": "https://localhost:8080/"
        },
        "id": "3Emg1KQc2ODn",
        "outputId": "1088f7a3-a141-4945-9ec0-8b469950b318"
      },
      "execution_count": null,
      "outputs": [
        {
          "output_type": "stream",
          "name": "stdout",
          "text": [
            "Type : int16\n",
            "Single Element size : 2\n",
            "A Length : 3\n"
          ]
        },
        {
          "output_type": "execute_result",
          "data": {
            "text/plain": [
              "6"
            ]
          },
          "metadata": {},
          "execution_count": 5
        }
      ]
    },
    {
      "cell_type": "markdown",
      "source": [
        "## Accessing elements"
      ],
      "metadata": {
        "id": "jtP2fb8H4kXN"
      }
    },
    {
      "cell_type": "code",
      "source": [
        "# Single Element\n",
        "c[1,2]"
      ],
      "metadata": {
        "colab": {
          "base_uri": "https://localhost:8080/"
        },
        "id": "mQmq62Cs4NuZ",
        "outputId": "f1d0d8f8-5662-4ab6-d6df-5aec91a7d942"
      },
      "execution_count": null,
      "outputs": [
        {
          "output_type": "execute_result",
          "data": {
            "text/plain": [
              "6"
            ]
          },
          "metadata": {},
          "execution_count": 6
        }
      ]
    },
    {
      "cell_type": "code",
      "source": [
        "# Whoole Row\n",
        "print(c[1, :])\n",
        "\n",
        "# Get Column\n",
        "print(c[:, 1])\n",
        "\n",
        "# Fancy a[ starting index : ending index : step ]\n",
        "example = np.array([\n",
        "    [1,2,3,4,5],\n",
        "    [5,4,3,2,1],\n",
        "    [5,4,3,2,1],\n",
        "    [1,2,3,4,5],\n",
        "])\n",
        "example[0, 1:-1:2]"
      ],
      "metadata": {
        "colab": {
          "base_uri": "https://localhost:8080/"
        },
        "id": "_9qswoQs5EaX",
        "outputId": "fb551e04-d480-43ee-9418-1ae074dfaeb2"
      },
      "execution_count": null,
      "outputs": [
        {
          "output_type": "stream",
          "name": "stdout",
          "text": [
            "[4 5 6]\n",
            "[2 5 2 5]\n"
          ]
        },
        {
          "output_type": "execute_result",
          "data": {
            "text/plain": [
              "array([2, 4])"
            ]
          },
          "metadata": {},
          "execution_count": 7
        }
      ]
    },
    {
      "cell_type": "markdown",
      "source": [
        "## Update value"
      ],
      "metadata": {
        "id": "UIzUz2xn6dCJ"
      }
    },
    {
      "cell_type": "code",
      "source": [
        "example[1,1] = 5\n",
        "\n",
        "example"
      ],
      "metadata": {
        "colab": {
          "base_uri": "https://localhost:8080/"
        },
        "id": "0vDLB0sH6l3v",
        "outputId": "db77bcfe-4fd6-4fb6-fa90-b61182bba010"
      },
      "execution_count": null,
      "outputs": [
        {
          "output_type": "execute_result",
          "data": {
            "text/plain": [
              "array([[1, 2, 3, 4, 5],\n",
              "       [5, 5, 3, 2, 1],\n",
              "       [5, 4, 3, 2, 1],\n",
              "       [1, 2, 3, 4, 5]])"
            ]
          },
          "metadata": {},
          "execution_count": 8
        }
      ]
    },
    {
      "cell_type": "code",
      "source": [
        "example[: , 1] = 10\n",
        "\n",
        "example"
      ],
      "metadata": {
        "colab": {
          "base_uri": "https://localhost:8080/"
        },
        "id": "2pVcJDMl65K3",
        "outputId": "0e8d97d2-4ff2-4f03-d70b-9d06e10d008a"
      },
      "execution_count": null,
      "outputs": [
        {
          "output_type": "execute_result",
          "data": {
            "text/plain": [
              "array([[ 1, 10,  3,  4,  5],\n",
              "       [ 5, 10,  3,  2,  1],\n",
              "       [ 5, 10,  3,  2,  1],\n",
              "       [ 1, 10,  3,  4,  5]])"
            ]
          },
          "metadata": {},
          "execution_count": 9
        }
      ]
    },
    {
      "cell_type": "markdown",
      "source": [
        "## Inicjalizacje"
      ],
      "metadata": {
        "id": "7lVHJbr_7qk2"
      }
    },
    {
      "cell_type": "code",
      "source": [
        "np.zeros(5)"
      ],
      "metadata": {
        "colab": {
          "base_uri": "https://localhost:8080/"
        },
        "id": "FjelMWfv7o12",
        "outputId": "4323b1b4-46c0-4a4e-be84-6c454bd0ff7c"
      },
      "execution_count": null,
      "outputs": [
        {
          "output_type": "execute_result",
          "data": {
            "text/plain": [
              "array([0., 0., 0., 0., 0.])"
            ]
          },
          "metadata": {},
          "execution_count": 10
        }
      ]
    },
    {
      "cell_type": "code",
      "source": [
        "np.zeros((2,3))"
      ],
      "metadata": {
        "colab": {
          "base_uri": "https://localhost:8080/"
        },
        "id": "1ipaxkPI7wU4",
        "outputId": "fb5c2d14-e855-49cb-f928-29d8051abe2f"
      },
      "execution_count": null,
      "outputs": [
        {
          "output_type": "execute_result",
          "data": {
            "text/plain": [
              "array([[0., 0., 0.],\n",
              "       [0., 0., 0.]])"
            ]
          },
          "metadata": {},
          "execution_count": 11
        }
      ]
    },
    {
      "cell_type": "code",
      "source": [
        "np.ones((3,2))"
      ],
      "metadata": {
        "colab": {
          "base_uri": "https://localhost:8080/"
        },
        "id": "KsoJwJEa8ApI",
        "outputId": "497efdb9-c285-48df-b9f4-b7945fd1f8d6"
      },
      "execution_count": null,
      "outputs": [
        {
          "output_type": "execute_result",
          "data": {
            "text/plain": [
              "array([[1., 1.],\n",
              "       [1., 1.],\n",
              "       [1., 1.]])"
            ]
          },
          "metadata": {},
          "execution_count": 12
        }
      ]
    },
    {
      "cell_type": "code",
      "source": [
        "np.full((5,4), 99, dtype='float')"
      ],
      "metadata": {
        "colab": {
          "base_uri": "https://localhost:8080/"
        },
        "id": "_yOjsZqx8JLl",
        "outputId": "5aae184f-d27a-4f08-8fdf-3ee78ce108a6"
      },
      "execution_count": null,
      "outputs": [
        {
          "output_type": "execute_result",
          "data": {
            "text/plain": [
              "array([[99., 99., 99., 99.],\n",
              "       [99., 99., 99., 99.],\n",
              "       [99., 99., 99., 99.],\n",
              "       [99., 99., 99., 99.],\n",
              "       [99., 99., 99., 99.]])"
            ]
          },
          "metadata": {},
          "execution_count": 13
        }
      ]
    },
    {
      "cell_type": "code",
      "source": [
        "np.full_like(example, -1)"
      ],
      "metadata": {
        "colab": {
          "base_uri": "https://localhost:8080/"
        },
        "id": "CVZz8Rqh9AqA",
        "outputId": "1044ea21-7319-4055-9914-fccb8a06f982"
      },
      "execution_count": null,
      "outputs": [
        {
          "output_type": "execute_result",
          "data": {
            "text/plain": [
              "array([[-1, -1, -1, -1, -1],\n",
              "       [-1, -1, -1, -1, -1],\n",
              "       [-1, -1, -1, -1, -1],\n",
              "       [-1, -1, -1, -1, -1]])"
            ]
          },
          "metadata": {},
          "execution_count": 14
        }
      ]
    },
    {
      "cell_type": "code",
      "source": [
        "np.random.rand(2,3) * 10 # ze skalarem"
      ],
      "metadata": {
        "colab": {
          "base_uri": "https://localhost:8080/"
        },
        "id": "-aOtU1n39hPz",
        "outputId": "c888eebf-c7c9-455c-870a-4a0025614b6e"
      },
      "execution_count": null,
      "outputs": [
        {
          "output_type": "execute_result",
          "data": {
            "text/plain": [
              "array([[0.11111816, 3.25812009, 5.62067182],\n",
              "       [0.65675598, 7.88879757, 6.30019099]])"
            ]
          },
          "metadata": {},
          "execution_count": 15
        }
      ]
    },
    {
      "cell_type": "code",
      "source": [
        "np.random.randint(10,size = (2,2)) # random integer do 10"
      ],
      "metadata": {
        "colab": {
          "base_uri": "https://localhost:8080/"
        },
        "id": "Gw6ZeI6-9w3Y",
        "outputId": "6f6eff5a-55b4-42bd-836c-f4d0dcbe9dd7"
      },
      "execution_count": null,
      "outputs": [
        {
          "output_type": "execute_result",
          "data": {
            "text/plain": [
              "array([[3, 9],\n",
              "       [8, 9]])"
            ]
          },
          "metadata": {},
          "execution_count": 16
        }
      ]
    },
    {
      "cell_type": "code",
      "source": [
        "# IDENTITY MATRIX\n",
        "\n",
        "i = np.identity(5)\n",
        "i"
      ],
      "metadata": {
        "colab": {
          "base_uri": "https://localhost:8080/"
        },
        "id": "6jo46ko9-KNZ",
        "outputId": "853fe80f-c039-4973-b029-08c6ce67b209"
      },
      "execution_count": null,
      "outputs": [
        {
          "output_type": "execute_result",
          "data": {
            "text/plain": [
              "array([[1., 0., 0., 0., 0.],\n",
              "       [0., 1., 0., 0., 0.],\n",
              "       [0., 0., 1., 0., 0.],\n",
              "       [0., 0., 0., 1., 0.],\n",
              "       [0., 0., 0., 0., 1.]])"
            ]
          },
          "metadata": {},
          "execution_count": 17
        }
      ]
    },
    {
      "cell_type": "code",
      "source": [
        "kopia = i.copy()"
      ],
      "metadata": {
        "id": "Zx6t1O45-tlq"
      },
      "execution_count": null,
      "outputs": []
    },
    {
      "cell_type": "code",
      "source": [
        "kopia + 5"
      ],
      "metadata": {
        "colab": {
          "base_uri": "https://localhost:8080/"
        },
        "id": "uQNstHij-3e9",
        "outputId": "b8dc1ec7-33e9-4acf-ee75-6d3e20f2eae8"
      },
      "execution_count": null,
      "outputs": [
        {
          "output_type": "execute_result",
          "data": {
            "text/plain": [
              "array([[6., 5., 5., 5., 5.],\n",
              "       [5., 6., 5., 5., 5.],\n",
              "       [5., 5., 6., 5., 5.],\n",
              "       [5., 5., 5., 6., 5.],\n",
              "       [5., 5., 5., 5., 6.]])"
            ]
          },
          "metadata": {},
          "execution_count": 19
        }
      ]
    },
    {
      "cell_type": "code",
      "source": [
        "kopia * 2"
      ],
      "metadata": {
        "colab": {
          "base_uri": "https://localhost:8080/"
        },
        "id": "tJ9Qzyf_-7hY",
        "outputId": "46b088cc-cc5c-4b17-c483-7db5fbe24e3e"
      },
      "execution_count": null,
      "outputs": [
        {
          "output_type": "execute_result",
          "data": {
            "text/plain": [
              "array([[2., 0., 0., 0., 0.],\n",
              "       [0., 2., 0., 0., 0.],\n",
              "       [0., 0., 2., 0., 0.],\n",
              "       [0., 0., 0., 2., 0.],\n",
              "       [0., 0., 0., 0., 2.]])"
            ]
          },
          "metadata": {},
          "execution_count": 20
        }
      ]
    },
    {
      "cell_type": "code",
      "source": [
        "kopia / 2"
      ],
      "metadata": {
        "colab": {
          "base_uri": "https://localhost:8080/"
        },
        "id": "BzMwR7fB_DKi",
        "outputId": "5e5179fd-209c-4998-bcab-fb450acb0e23"
      },
      "execution_count": null,
      "outputs": [
        {
          "output_type": "execute_result",
          "data": {
            "text/plain": [
              "array([[0.5, 0. , 0. , 0. , 0. ],\n",
              "       [0. , 0.5, 0. , 0. , 0. ],\n",
              "       [0. , 0. , 0.5, 0. , 0. ],\n",
              "       [0. , 0. , 0. , 0.5, 0. ],\n",
              "       [0. , 0. , 0. , 0. , 0.5]])"
            ]
          },
          "metadata": {},
          "execution_count": 21
        }
      ]
    },
    {
      "cell_type": "code",
      "source": [
        "(kopia+2) ** 2"
      ],
      "metadata": {
        "id": "YptXM8HU_UD2",
        "outputId": "bfa02ee9-b5d9-4ada-9880-4b56ff399724",
        "colab": {
          "base_uri": "https://localhost:8080/"
        }
      },
      "execution_count": null,
      "outputs": [
        {
          "output_type": "execute_result",
          "data": {
            "text/plain": [
              "array([[9., 4., 4., 4., 4.],\n",
              "       [4., 9., 4., 4., 4.],\n",
              "       [4., 4., 9., 4., 4.],\n",
              "       [4., 4., 4., 9., 4.],\n",
              "       [4., 4., 4., 4., 9.]])"
            ]
          },
          "metadata": {},
          "execution_count": 22
        }
      ]
    },
    {
      "cell_type": "code",
      "source": [
        "np.sin(example)"
      ],
      "metadata": {
        "colab": {
          "base_uri": "https://localhost:8080/"
        },
        "id": "NWwg3YU0Ojl9",
        "outputId": "2b47cd80-e0e8-4d83-c02c-83db5266b32f"
      },
      "execution_count": null,
      "outputs": [
        {
          "output_type": "execute_result",
          "data": {
            "text/plain": [
              "array([[ 0.84147098, -0.54402111,  0.14112001, -0.7568025 , -0.95892427],\n",
              "       [-0.95892427, -0.54402111,  0.14112001,  0.90929743,  0.84147098],\n",
              "       [-0.95892427, -0.54402111,  0.14112001,  0.90929743,  0.84147098],\n",
              "       [ 0.84147098, -0.54402111,  0.14112001, -0.7568025 , -0.95892427]])"
            ]
          },
          "metadata": {},
          "execution_count": 23
        }
      ]
    },
    {
      "cell_type": "code",
      "source": [],
      "metadata": {
        "id": "-95_ooqNOnf8"
      },
      "execution_count": null,
      "outputs": []
    },
    {
      "cell_type": "markdown",
      "source": [
        "# Linear ALgebra\n",
        "\n",
        "[Link to Documentation](https://numpy.org/doc/stable/reference/routines.linalg.html)"
      ],
      "metadata": {
        "id": "wtbUYzn4PMBd"
      }
    },
    {
      "cell_type": "code",
      "source": [
        "a = np.ones((2,3))\n",
        "b = np.full((3,2), 2) \n",
        "\n",
        "print(a)\n",
        "print(b)\n",
        "\n",
        "# MATRIX MULTIPLICATION\n",
        "np.matmul(a,b)"
      ],
      "metadata": {
        "colab": {
          "base_uri": "https://localhost:8080/"
        },
        "id": "aqjWalisPOll",
        "outputId": "5d556da2-7b36-42aa-83ec-26521e21ad10"
      },
      "execution_count": null,
      "outputs": [
        {
          "output_type": "stream",
          "name": "stdout",
          "text": [
            "[[1. 1. 1.]\n",
            " [1. 1. 1.]]\n",
            "[[2 2]\n",
            " [2 2]\n",
            " [2 2]]\n"
          ]
        },
        {
          "output_type": "execute_result",
          "data": {
            "text/plain": [
              "array([[6., 6.],\n",
              "       [6., 6.]])"
            ]
          },
          "metadata": {},
          "execution_count": 24
        }
      ]
    },
    {
      "cell_type": "code",
      "source": [
        "# MATRIX DETERMINANT\n",
        "c = np.identity(3)\n",
        "np.linalg.det(c)"
      ],
      "metadata": {
        "colab": {
          "base_uri": "https://localhost:8080/"
        },
        "id": "VKyaQXqVPyul",
        "outputId": "2ec86fd5-9919-4e56-b8d1-774daccf94bc"
      },
      "execution_count": null,
      "outputs": [
        {
          "output_type": "execute_result",
          "data": {
            "text/plain": [
              "1.0"
            ]
          },
          "metadata": {},
          "execution_count": 25
        }
      ]
    },
    {
      "cell_type": "code",
      "source": [
        "# MATRIX POWER\n",
        "np.linalg.matrix_power(c,3)"
      ],
      "metadata": {
        "colab": {
          "base_uri": "https://localhost:8080/"
        },
        "id": "d4mt3nUtQK2U",
        "outputId": "cf5e3b91-36bb-4718-a2ca-7011df59fdec"
      },
      "execution_count": null,
      "outputs": [
        {
          "output_type": "execute_result",
          "data": {
            "text/plain": [
              "array([[1., 0., 0.],\n",
              "       [0., 1., 0.],\n",
              "       [0., 0., 1.]])"
            ]
          },
          "metadata": {},
          "execution_count": 26
        }
      ]
    },
    {
      "cell_type": "code",
      "source": [
        "# MATRIX RANK\n",
        "matrix = np.array([\n",
        "    [ 1, 2, 3 ],\n",
        "    [ 4, 5, 0 ],\n",
        "    [ 0, 0, 9 ]\n",
        "])\n",
        "\n",
        "np.linalg.matrix_rank(matrix)"
      ],
      "metadata": {
        "colab": {
          "base_uri": "https://localhost:8080/"
        },
        "id": "K5x3rVrSQo8E",
        "outputId": "013e9f43-fe8d-4338-c90c-77f63552ce8d"
      },
      "execution_count": null,
      "outputs": [
        {
          "output_type": "execute_result",
          "data": {
            "text/plain": [
              "3"
            ]
          },
          "metadata": {},
          "execution_count": 27
        }
      ]
    },
    {
      "cell_type": "code",
      "source": [
        "# EIGEN VALUES\n",
        "np.linalg.eig(matrix)"
      ],
      "metadata": {
        "colab": {
          "base_uri": "https://localhost:8080/"
        },
        "id": "H7ie9qpURsgl",
        "outputId": "55818d13-d250-4e9d-ddbc-8dd6375c218e"
      },
      "execution_count": null,
      "outputs": [
        {
          "output_type": "execute_result",
          "data": {
            "text/plain": [
              "(array([-0.46410162,  6.46410162,  9.        ]),\n",
              " array([[-0.80689822, -0.34372377,  0.40824829],\n",
              "        [ 0.59069049, -0.9390708 ,  0.40824829],\n",
              "        [ 0.        ,  0.        ,  0.81649658]]))"
            ]
          },
          "metadata": {},
          "execution_count": 28
        }
      ]
    },
    {
      "cell_type": "code",
      "source": [
        "#INVERS THE MATRIX\n",
        "np.linalg.inv(matrix)"
      ],
      "metadata": {
        "colab": {
          "base_uri": "https://localhost:8080/"
        },
        "id": "sy99Xpn3SJQ0",
        "outputId": "cf8ed3f1-a9b8-4590-f6c6-db6b7844729b"
      },
      "execution_count": null,
      "outputs": [
        {
          "output_type": "execute_result",
          "data": {
            "text/plain": [
              "array([[-1.66666667,  0.66666667,  0.55555556],\n",
              "       [ 1.33333333, -0.33333333, -0.44444444],\n",
              "       [ 0.        ,  0.        ,  0.11111111]])"
            ]
          },
          "metadata": {},
          "execution_count": 29
        }
      ]
    },
    {
      "cell_type": "code",
      "source": [
        "np.diag(matrix)"
      ],
      "metadata": {
        "colab": {
          "base_uri": "https://localhost:8080/"
        },
        "id": "bNa18EPhSmjV",
        "outputId": "026fbc70-265b-4149-c3f2-e255626365a5"
      },
      "execution_count": null,
      "outputs": [
        {
          "output_type": "execute_result",
          "data": {
            "text/plain": [
              "array([1, 5, 9])"
            ]
          },
          "metadata": {},
          "execution_count": 30
        }
      ]
    },
    {
      "cell_type": "markdown",
      "source": [
        "# Statistics"
      ],
      "metadata": {
        "id": "aIc5zHGcTBB8"
      }
    },
    {
      "cell_type": "code",
      "source": [
        "stats = np.array([[1,2,3],[4,5,6]])\n",
        "\n",
        "# MIN/MAX\n",
        "min = np.min(stats)\n",
        "print( min )\n",
        "\n",
        "min = np.min(stats, axis = 1)\n",
        "print( min )\n",
        "\n",
        "# SUM\n",
        "\n",
        "sum = np.sum(stats)\n",
        "print(sum)\n",
        "\n",
        "sum = np.sum(stats, axis=1)\n",
        "sum"
      ],
      "metadata": {
        "colab": {
          "base_uri": "https://localhost:8080/"
        },
        "id": "hhLhngcGTEMd",
        "outputId": "15c12a2e-a028-4193-8d52-c81c5b498622"
      },
      "execution_count": null,
      "outputs": [
        {
          "output_type": "stream",
          "name": "stdout",
          "text": [
            "1\n",
            "[1 4]\n",
            "21\n"
          ]
        },
        {
          "output_type": "execute_result",
          "data": {
            "text/plain": [
              "array([ 6, 15])"
            ]
          },
          "metadata": {},
          "execution_count": 31
        }
      ]
    },
    {
      "cell_type": "code",
      "source": [
        "# MEAN \n",
        "mean = np.mean(stats)\n",
        "print(f'Średnia : {mean}')\n",
        "\n",
        "# STANDARD DIVIATION\n",
        "std = np.std(stats)\n",
        "print(f'Odchylenia Standardowe {std}')\n",
        "\n",
        "# VARANCE\n",
        "var = np.var(stats)\n",
        "print(f'Wariancja : {var}')\n",
        "\n",
        "# MEDIAN \n",
        "median = np.median(stats)\n",
        "print(f'Mediana : {median}')\n",
        "\n",
        "# QUANTILE\n",
        "q1 = np.quantile(stats, 0.5)\n",
        "print(f'Kwantyl całości: { q1 }')\n",
        "\n",
        "q2 = np.quantile(stats, 0.5, axis=1)\n",
        "print(f'Kwantyle: { q2 }')"
      ],
      "metadata": {
        "colab": {
          "base_uri": "https://localhost:8080/"
        },
        "id": "_55PthDnUMDF",
        "outputId": "a5bd0090-1901-45bc-da83-64a44e9940b9"
      },
      "execution_count": null,
      "outputs": [
        {
          "output_type": "stream",
          "name": "stdout",
          "text": [
            "Średnia : 3.5\n",
            "Odchylenia Standardowe 1.707825127659933\n",
            "Wariancja : 2.9166666666666665\n",
            "Mediana : 3.5\n",
            "Kwantyl całości: 3.5\n",
            "Kwantyle: [2. 5.]\n"
          ]
        }
      ]
    },
    {
      "cell_type": "code",
      "source": [
        "# HISTOGRAM \n",
        "import matplotlib.pyplot as plt\n",
        "\n",
        "rng = np.random.RandomState(10)  # deterministic random data\n",
        "\n",
        "a = np.hstack((rng.normal(size=1000),\n",
        "               rng.normal(loc=5, scale=2, size=1000)))\n",
        "_ = plt.hist(a, bins='auto')  # arguments are passed to np.histogram\n",
        "plt.title(\"Histogram with 'auto' bins\")\n",
        "\n",
        "plt.show()"
      ],
      "metadata": {
        "colab": {
          "base_uri": "https://localhost:8080/"
        },
        "id": "fMh_HV1PW7St",
        "outputId": "85362d85-8450-46b5-8007-4bf1e78a8ed6"
      },
      "execution_count": null,
      "outputs": [
        {
          "output_type": "display_data",
          "data": {
            "text/plain": [
              "<Figure size 640x480 with 1 Axes>"
            ],
            "image/png": "[encoded data removed]"
          },
          "metadata": {}
        }
      ]
    },
    {
      "cell_type": "code",
      "source": [
        "# COVARIANCE\n",
        "x = np.array([[0, 2], [1, 1], [2, 0]]).T # BTW .T is matrix transposition\n",
        "\n",
        "cov = np.cov(x)\n",
        "cov"
      ],
      "metadata": {
        "colab": {
          "base_uri": "https://localhost:8080/"
        },
        "id": "8N6D4PwhW8zE",
        "outputId": "d9ce08b6-57da-42e0-d70b-9b01ecbf3a23"
      },
      "execution_count": null,
      "outputs": [
        {
          "output_type": "execute_result",
          "data": {
            "text/plain": [
              "array([[ 1., -1.],\n",
              "       [-1.,  1.]])"
            ]
          },
          "metadata": {},
          "execution_count": 34
        }
      ]
    },
    {
      "cell_type": "markdown",
      "source": [
        "# RESHAPE"
      ],
      "metadata": {
        "id": "c2YX_G2AZScE"
      }
    },
    {
      "cell_type": "code",
      "source": [
        "before = np.array([[1,2,3,4],[5,6,7,8]])\n",
        "print(before)\n",
        "\n",
        "after = before.reshape((4,2))\n",
        "\n",
        "after"
      ],
      "metadata": {
        "colab": {
          "base_uri": "https://localhost:8080/"
        },
        "id": "5qdGtx9iZVy0",
        "outputId": "3e570435-d891-4bb3-c155-519b8ceb9901"
      },
      "execution_count": null,
      "outputs": [
        {
          "output_type": "stream",
          "name": "stdout",
          "text": [
            "[[1 2 3 4]\n",
            " [5 6 7 8]]\n"
          ]
        },
        {
          "output_type": "execute_result",
          "data": {
            "text/plain": [
              "array([[1, 2],\n",
              "       [3, 4],\n",
              "       [5, 6],\n",
              "       [7, 8]])"
            ]
          },
          "metadata": {},
          "execution_count": 35
        }
      ]
    },
    {
      "cell_type": "markdown",
      "source": [
        "Stacking Vectors "
      ],
      "metadata": {
        "id": "T7lpiVieat0k"
      }
    },
    {
      "cell_type": "code",
      "source": [
        "# VERTICAL STACK\n",
        "v1 = np.array([1, 2, 3, 4])\n",
        "v2 = np.array([5, 6, 7, 8])\n",
        "np.vstack([v1, v2, v1, v2])"
      ],
      "metadata": {
        "colab": {
          "base_uri": "https://localhost:8080/"
        },
        "id": "iifvHQlhawoc",
        "outputId": "a3f1154d-5319-4bea-8317-0673d9479c49"
      },
      "execution_count": null,
      "outputs": [
        {
          "output_type": "execute_result",
          "data": {
            "text/plain": [
              "array([[1, 2, 3, 4],\n",
              "       [5, 6, 7, 8],\n",
              "       [1, 2, 3, 4],\n",
              "       [5, 6, 7, 8]])"
            ]
          },
          "metadata": {},
          "execution_count": 36
        }
      ]
    },
    {
      "cell_type": "code",
      "source": [
        "# HORIZONTAL STACK\n",
        "h1 = np.ones((2,4))\n",
        "h2 = np.zeros((2,2))\n",
        "\n",
        "print(h1)\n",
        "print(h2)\n",
        "\n",
        "np.hstack([h1,h2])"
      ],
      "metadata": {
        "colab": {
          "base_uri": "https://localhost:8080/"
        },
        "id": "UJHqKx5sbIdM",
        "outputId": "e495e20c-3748-462a-aa51-b67eab473304"
      },
      "execution_count": null,
      "outputs": [
        {
          "output_type": "stream",
          "name": "stdout",
          "text": [
            "[[1. 1. 1. 1.]\n",
            " [1. 1. 1. 1.]]\n",
            "[[0. 0.]\n",
            " [0. 0.]]\n"
          ]
        },
        {
          "output_type": "execute_result",
          "data": {
            "text/plain": [
              "array([[1., 1., 1., 1., 0., 0.],\n",
              "       [1., 1., 1., 1., 0., 0.]])"
            ]
          },
          "metadata": {},
          "execution_count": 37
        }
      ]
    },
    {
      "cell_type": "markdown",
      "source": [
        "# LOADING DATA to NUMPY"
      ],
      "metadata": {
        "id": "pFVeeR2Ib2T8"
      }
    },
    {
      "cell_type": "code",
      "source": [
        "filedata = np.genfromtxt('file.txt', delimiter=',')\n",
        "filedata = filedata.astype('int32') # If we want to cast all data to specific type\n",
        "\n",
        "filedata"
      ],
      "metadata": {
        "colab": {
          "base_uri": "https://localhost:8080/"
        },
        "id": "vmgL0mducCEc",
        "outputId": "fa16c29a-5aea-4b17-a82b-adef19cd12de"
      },
      "execution_count": null,
      "outputs": [
        {
          "output_type": "execute_result",
          "data": {
            "text/plain": [
              "array([[         54,          45, -2147483648],\n",
              "       [         45,          31, -2147483648]], dtype=int32)"
            ]
          },
          "metadata": {},
          "execution_count": 39
        }
      ]
    },
    {
      "cell_type": "markdown",
      "source": [
        "# BOOLEAN MASKING AND ADVANCED INDEXING"
      ],
      "metadata": {
        "id": "1p2qAwEndD_0"
      }
    },
    {
      "cell_type": "code",
      "source": [
        "# GET ARRAY OF TRUE/FALSE DEPENDING ON CONDITION\n",
        "filedata > 50"
      ],
      "metadata": {
        "id": "Ug8NWB0VdHrs",
        "colab": {
          "base_uri": "https://localhost:8080/"
        },
        "outputId": "7dbe2fd4-cea3-40d6-ddc7-1fc060fb91cf"
      },
      "execution_count": null,
      "outputs": [
        {
          "output_type": "execute_result",
          "data": {
            "text/plain": [
              "array([[ True, False, False],\n",
              "       [False, False, False]])"
            ]
          },
          "metadata": {},
          "execution_count": 40
        }
      ]
    },
    {
      "cell_type": "code",
      "source": [
        "# GET ONLY THE VALUES THAT HAVE VALUE > 50\n",
        "filedata[ filedata > 50 ]"
      ],
      "metadata": {
        "id": "TJO0-96adO9V",
        "colab": {
          "base_uri": "https://localhost:8080/"
        },
        "outputId": "5661c908-7f50-4c7c-820d-e9809b383139"
      },
      "execution_count": null,
      "outputs": [
        {
          "output_type": "execute_result",
          "data": {
            "text/plain": [
              "array([54], dtype=int32)"
            ]
          },
          "metadata": {},
          "execution_count": 41
        }
      ]
    },
    {
      "cell_type": "code",
      "source": [
        "# SELECTIVE INDEXING -> I want indexes 2,3,8\n",
        "a = np.array([1,2,3,4,5,6,7,8,9])\n",
        "a[[2,3,8]]"
      ],
      "metadata": {
        "id": "EKtr2H4Zdqj9",
        "colab": {
          "base_uri": "https://localhost:8080/"
        },
        "outputId": "03b5859c-121c-455e-a862-a42f10c614a4"
      },
      "execution_count": null,
      "outputs": [
        {
          "output_type": "execute_result",
          "data": {
            "text/plain": [
              "array([3, 4, 9])"
            ]
          },
          "metadata": {},
          "execution_count": 42
        }
      ]
    },
    {
      "cell_type": "code",
      "source": [
        "np.any(filedata > 50 , axis=0)"
      ],
      "metadata": {
        "id": "oPNW8ZTxd0es",
        "colab": {
          "base_uri": "https://localhost:8080/"
        },
        "outputId": "dfe861af-837b-4977-a723-e70412f5e0ed"
      },
      "execution_count": null,
      "outputs": [
        {
          "output_type": "execute_result",
          "data": {
            "text/plain": [
              "array([ True, False, False])"
            ]
          },
          "metadata": {},
          "execution_count": 43
        }
      ]
    },
    {
      "cell_type": "markdown",
      "source": [
        "# MATPLOTLIB"
      ],
      "metadata": {
        "id": "8Rbgw-T0hlws"
      }
    },
    {
      "cell_type": "markdown",
      "source": [
        "## BASIC GRAPH"
      ],
      "metadata": {
        "id": "gKyh65rqiI9c"
      }
    },
    {
      "cell_type": "code",
      "source": [
        "import matplotlib.pyplot as plt\n",
        "import numpy as np\n",
        "\n",
        "x = [0,1,2,3,4]\n",
        "y = [0,2,4,6,8]\n",
        "\n",
        "# plt.plot(x,y, label='2x', color='purple', linewidth=3, marker='.', linestyle='--', markersize=12, markeredgecolor='red')\n",
        "# Line Styles:\n",
        "### '-'  Solid\n",
        "### '--' Dashed\n",
        "### ':'  Dotted\n",
        "### '-.' Dashdot\n",
        "### ''   None\n",
        "### 'dotted' -> dottet\n",
        "\n",
        "# Short hand\n",
        "# fmt = '[color][marker][line]'\n",
        "plt.plot(x,y, 'r^--', label='2x')\n",
        "\n",
        "# SECOND LINE\n",
        "x2 = np.arange(0, 4.0, 0.1)\n",
        "plt.plot( x2, x2**2, 'b', label='x^2' )\n",
        "\n",
        "# part of chart solid & part dashed\n",
        "plt.plot( x2[:30], x2[:30]**3, 'g', label=\"x^3\" )\n",
        "plt.plot( x2[25:], x2[25:]**3, 'g--' )\n",
        "\n",
        "# plt.figure(figsize=(5,3), dpi=300) # Chart size\n",
        "\n",
        "# LABELS AND TITLE\n",
        "plt.title(\"FIRST GRAPH\", fontdict={'fontname': 'Sans Serif', 'fontsize': 20})\n",
        "plt.xlabel(\"Arguments\")\n",
        "plt.ylabel(\"Values\")\n",
        "\n",
        "# Ticks - ta skala na wyresie - marerki\n",
        "plt.xticks([0,1,2,3,4])\n",
        "# plt.yticks([0,1,2,3,4,5,6,7,8,9,10])\n",
        "\n",
        "# LEGEND - REQUIRES label ass param at plot\n",
        "plt.legend()\n",
        "\n",
        "# SAVE CHART TO PNG\n",
        "plt.savefig('chart.png', dpi=300)\n",
        "\n",
        "# Actually shows plot\n",
        "plt.show()"
      ],
      "metadata": {
        "colab": {
          "base_uri": "https://localhost:8080/",
          "height": 480
        },
        "id": "PEs7wNW_iLQl",
        "outputId": "239dd8eb-4030-4476-92a7-e8266a0221cf"
      },
      "execution_count": 5,
      "outputs": [
        {
          "output_type": "display_data",
          "data": {
            "text/plain": [
              "<Figure size 640x480 with 1 Axes>"
            ],
            "image/png": "[encoded data removed]"
          },
          "metadata": {}
        }
      ]
    },
    {
      "cell_type": "code",
      "source": [
        "# BAR CHART\n",
        "\n",
        "labels = ['A', 'B', 'C']\n",
        "\n",
        "values = [ 1, 4, 2 ]\n",
        "plt.figure(figsize=(6,4))\n",
        "\n",
        "bar_chart = plt.bar(labels,values)\n",
        "\n",
        "# Patterns\n",
        "\n",
        "# bar_chart[0].set_hatch('/')\n",
        "# bar_chart[1].set_hatch('o')\n",
        "# bar_chart[2].set_hatch('*')\n",
        "\n",
        "patterns = ['/', 'o', '*']\n",
        "for bar in bar_chart:\n",
        "  bar.set_hatch(patterns.pop(0))\n",
        "\n",
        "plt.show()"
      ],
      "metadata": {
        "id": "KHR3IKhqhoa0",
        "colab": {
          "base_uri": "https://localhost:8080/",
          "height": 368
        },
        "outputId": "fd673853-4c6c-43c6-e892-16487036367d"
      },
      "execution_count": 6,
      "outputs": [
        {
          "output_type": "display_data",
          "data": {
            "text/plain": [
              "<Figure size 600x400 with 1 Axes>"
            ],
            "image/png": "[encoded data removed]"
          },
          "metadata": {}
        }
      ]
    },
    {
      "cell_type": "code",
      "source": [
        "# FILL UNDER THE CURVE\n",
        "\n",
        "plt.rcParams[\"figure.figsize\"] = [7.50, 3.50]\n",
        "plt.rcParams[\"figure.autolayout\"] = True\n",
        "\n",
        "x = np.linspace(-10, 10, 1000)\n",
        "y1 = np.sin(x)\n",
        "y2 = np.cos(x)\n",
        "plt.fill_between(x, y1, step=\"pre\", alpha=0.4)\n",
        "plt.fill_between(x, y2, step=\"pre\", alpha=0.4)\n",
        "\n",
        "plt.plot(x, y1, drawstyle=\"steps\")\n",
        "plt.plot(x, y2, drawstyle=\"steps\")\n",
        "\n",
        "plt.show()"
      ],
      "metadata": {
        "colab": {
          "base_uri": "https://localhost:8080/",
          "height": 357
        },
        "id": "ZSg1XO6H4kfU",
        "outputId": "e560de87-3ec2-447f-f9cf-2bb8b8a68bcc"
      },
      "execution_count": 7,
      "outputs": [
        {
          "output_type": "display_data",
          "data": {
            "text/plain": [
              "<Figure size 750x350 with 1 Axes>"
            ],
            "image/png": "[encoded data removed]"
          },
          "metadata": {}
        }
      ]
    },
    {
      "cell_type": "markdown",
      "source": [
        "# GUS PRICES "
      ],
      "metadata": {
        "id": "Mq9f55BLgEq8"
      }
    },
    {
      "cell_type": "code",
      "source": [
        "import pandas as pd\n",
        "import matplotlib.pyplot as plt\n",
        "\n",
        "\"\"\"\n",
        "Year,Australia,Canada,France,Germany,Italy,Japan,Mexico,South Korea,UK,USA\n",
        "1990,,1.87,3.63,2.65,4.59,3.16,1,2.05,2.82,1.16\n",
        "1991,1.96,1.92,3.45,2.9,4.5,3.46,1.3,2.49,3.01,1.14\n",
        "1992,1.89,1.73,3.56,3.27,4.53,3.58,1.5,2.65,3.06,1.13\n",
        "1993,1.73,1.57,3.41,3.07,3.68,4.16,1.56,2.88,2.84,1.11\n",
        "1994,1.84,1.45,3.59,3.52,3.7,4.36,1.48,2.87,2.99,1.11\n",
        "1995,1.95,1.53,4.26,3.96,4,4.43,1.11,2.94,3.21,1.15\n",
        "1996,2.12,1.61,4.41,3.94,4.39,3.64,1.25,3.18,3.34,1.23\n",
        "1997,2.05,1.62,4,3.53,4.07,3.26,1.47,3.34,3.83,1.23\n",
        "1998,1.63,1.38,3.87,3.34,3.84,2.82,1.49,3.04,4.06,1.06\n",
        "1999,1.72,1.52,3.85,3.42,3.87,3.27,1.79,3.8,4.29,1.17\n",
        "2000,1.94,1.86,3.8,3.45,3.77,3.65,2.01,4.18,4.58,1.51\n",
        "2001,1.71,1.72,3.51,3.4,3.57,3.27,2.2,3.76,4.13,1.46\n",
        "2002,1.76,1.69,3.62,3.67,3.74,3.15,2.24,3.84,4.16,1.36\n",
        "2003,2.19,1.99,4.35,4.59,4.53,3.47,2.04,4.11,4.7,1.59\n",
        "2004,2.72,2.37,4.99,5.24,5.29,3.93,2.03,4.51,5.56,1.88\n",
        "2005,3.23,2.89,5.46,5.66,5.74,4.28,2.22,5.28,5.97,2.3\n",
        "2006,3.54,3.26,5.88,6.03,6.1,4.47,2.31,5.92,6.36,2.59\n",
        "2007,3.85,3.59,6.6,6.88,6.73,4.49,2.4,6.21,7.13,2.8\n",
        "2008,4.45,4.08,7.51,7.75,7.63,5.74,2.45,5.83,7.42,3.27\n",
        "\"\"\"\n",
        "\n",
        "gas = pd.read_csv('./data/gas_prices.csv')\n",
        "\n",
        "plt.plot(gas.Year, gas.USA)\n",
        "plt.plot(gas.Year, gas.Canada)\n",
        "\n",
        "plt.show()"
      ],
      "metadata": {
        "id": "iLSei3VledVX",
        "colab": {
          "base_uri": "https://localhost:8080/",
          "height": 357
        },
        "outputId": "a94c5996-f161-4b10-ae4b-180419e99b75"
      },
      "execution_count": 10,
      "outputs": [
        {
          "output_type": "display_data",
          "data": {
            "text/plain": [
              "<Figure size 750x350 with 1 Axes>"
            ],
            "image/png": "[encoded data removed]"
          },
          "metadata": {}
        }
      ]
    },
    {
      "cell_type": "code",
      "source": [],
      "metadata": {
        "id": "rsJN4KjwiP8T"
      },
      "execution_count": null,
      "outputs": []
    }
  ]
}